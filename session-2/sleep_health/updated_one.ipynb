{
 "cells": [
  {
   "cell_type": "code",
   "execution_count": 1,
   "id": "e4ffafd8",
   "metadata": {},
   "outputs": [],
   "source": [
    "import pandas as pd\n",
    "import numpy as np\n",
    "from sklearn.preprocessing import StandardScaler"
   ]
  },
  {
   "cell_type": "code",
   "execution_count": 2,
   "id": "c8ba23e6",
   "metadata": {},
   "outputs": [],
   "source": [
    "data_f = pd.read_csv('Sleep_health_and_lifestyle_dataset.csv')"
   ]
  },
  {
   "cell_type": "code",
   "execution_count": 13,
   "id": "49a3c707",
   "metadata": {},
   "outputs": [
    {
     "name": "stdout",
     "output_type": "stream",
     "text": [
      "Categorical Columns: ['Gender', 'Occupation', 'BMI Category', 'Blood Pressure', 'Sleep Disorder']\n",
      "Numerical Columns: ['Person ID', 'Age', 'Sleep Duration', 'Quality of Sleep', 'Physical Activity Level', 'Stress Level', 'Heart Rate', 'Daily Steps']\n"
     ]
    }
   ],
   "source": [
    "# ---- Step 1: Separate categorical and numerical columns ----\n",
    "cat_cols = [col for col in data_f.columns if data_f[col].dtype == 'object']\n",
    "num_cols = [col for col in data_f.columns if data_f[col].dtype != 'object']\n",
    "\n",
    "print(\"Categorical Columns:\", cat_cols)\n",
    "print(\"Numerical Columns:\", num_cols)"
   ]
  },
  {
   "cell_type": "code",
   "execution_count": 14,
   "id": "e95bd892",
   "metadata": {},
   "outputs": [],
   "source": [
    "# ---- Step 2: Drop unnecessary columns if not already done ----\n",
    "data_clean = data_f.drop(columns=['Person ID', 'Sleep Disorder'], errors='ignore')"
   ]
  },
  {
   "cell_type": "code",
   "execution_count": 15,
   "id": "926d1d99",
   "metadata": {},
   "outputs": [],
   "source": [
    "# ---- Step 3: Handle Gender separately (Male = 1, Female = 0) ----\n",
    "data_clean['Gender'] = data_clean['Gender'].map({'Male': 1, 'Female': 0})"
   ]
  },
  {
   "cell_type": "code",
   "execution_count": 20,
   "id": "6a8f7813",
   "metadata": {},
   "outputs": [
    {
     "name": "stdout",
     "output_type": "stream",
     "text": [
      "Will one-hot encode these: ['Occupation', 'BMI Category', 'Blood Pressure']\n"
     ]
    }
   ],
   "source": [
    "# 4) Keep only those categorical columns that actually exist and are not 'Gender'\n",
    "other_cat_cols = [col for col in cat_cols if col != 'Gender' and col in data_clean.columns]\n",
    "print(\"Will one-hot encode these:\", other_cat_cols)"
   ]
  },
  {
   "cell_type": "code",
   "execution_count": 21,
   "id": "db6f7aef",
   "metadata": {},
   "outputs": [],
   "source": [
    "# 5) One-hot encode safely (if there are none, skip)\n",
    "#if other_cat_cols:\n",
    "    #data_encoded = pd.get_dummies(data_clean, columns=other_cat_cols, drop_first=True)\n",
    "#else:\n",
    "    #data_encoded = data_clean.copy()"
   ]
  },
  {
   "cell_type": "code",
   "execution_count": 22,
   "id": "8930ecb8",
   "metadata": {},
   "outputs": [],
   "source": [
    "# 6) Standardize numeric columns (optionally exclude the binary Gender column)\n",
    "num_cols = data_encoded.select_dtypes(include=[np.number]).columns.tolist()\n",
    "# If you don't want to scale Gender (0/1), exclude it:\n",
    "num_cols_to_scale = [c for c in num_cols if c != 'Gender']\n",
    "\n",
    "scaler = StandardScaler()\n",
    "if num_cols_to_scale:\n",
    "    data_encoded[num_cols_to_scale] = scaler.fit_transform(data_encoded[num_cols_to_scale])\n"
   ]
  },
  {
   "cell_type": "code",
   "execution_count": 23,
   "id": "81fce1cf",
   "metadata": {},
   "outputs": [
    {
     "name": "stdout",
     "output_type": "stream",
     "text": [
      "   Gender       Age  Sleep Duration  Quality of Sleep  \\\n",
      "0       1 -1.753096       -1.298887         -1.098280   \n",
      "1       1 -1.637643       -1.173036         -1.098280   \n",
      "2       1 -1.637643       -1.173036         -1.098280   \n",
      "3       1 -1.637643       -1.550588         -2.771424   \n",
      "4       1 -1.637643       -1.550588         -2.771424   \n",
      "\n",
      "   Physical Activity Level  Stress Level  Heart Rate  Daily Steps  \\\n",
      "0                -0.825418      0.347021    1.654719    -1.619584   \n",
      "1                 0.039844      1.475592    1.170474     1.970077   \n",
      "2                 0.039844      1.475592    1.170474     1.970077   \n",
      "3                -1.402260      1.475592    3.591698    -2.362273   \n",
      "4                -1.402260      1.475592    3.591698    -2.362273   \n",
      "\n",
      "   Occupation_Doctor  Occupation_Engineer  ...  Blood Pressure_130/85  \\\n",
      "0              False                False  ...                  False   \n",
      "1               True                False  ...                  False   \n",
      "2               True                False  ...                  False   \n",
      "3              False                False  ...                  False   \n",
      "4              False                False  ...                  False   \n",
      "\n",
      "   Blood Pressure_130/86  Blood Pressure_131/86  Blood Pressure_132/87  \\\n",
      "0                  False                  False                  False   \n",
      "1                  False                  False                  False   \n",
      "2                  False                  False                  False   \n",
      "3                  False                  False                  False   \n",
      "4                  False                  False                  False   \n",
      "\n",
      "   Blood Pressure_135/88  Blood Pressure_135/90  Blood Pressure_139/91  \\\n",
      "0                  False                  False                  False   \n",
      "1                  False                  False                  False   \n",
      "2                  False                  False                  False   \n",
      "3                  False                  False                  False   \n",
      "4                  False                  False                  False   \n",
      "\n",
      "   Blood Pressure_140/90  Blood Pressure_140/95  Blood Pressure_142/92  \n",
      "0                  False                  False                  False  \n",
      "1                  False                  False                  False  \n",
      "2                  False                  False                  False  \n",
      "3                   True                  False                  False  \n",
      "4                   True                  False                  False  \n",
      "\n",
      "[5 rows x 45 columns]\n",
      "\n",
      "Means (scaled cols):\n",
      " Age                        0.0\n",
      "Sleep Duration             0.0\n",
      "Quality of Sleep           0.0\n",
      "Physical Activity Level   -0.0\n",
      "Stress Level               0.0\n",
      "Heart Rate                 0.0\n",
      "Daily Steps                0.0\n",
      "dtype: float64\n",
      "\n",
      "Stds (scaled cols):\n",
      " Age                        1.00134\n",
      "Sleep Duration             1.00134\n",
      "Quality of Sleep           1.00134\n",
      "Physical Activity Level    1.00134\n",
      "Stress Level               1.00134\n",
      "Heart Rate                 1.00134\n",
      "Daily Steps                1.00134\n",
      "dtype: float64\n"
     ]
    }
   ],
   "source": [
    "# 7) Quick check\n",
    "print(data_encoded.head())\n",
    "print(\"\\nMeans (scaled cols):\\n\", data_encoded[num_cols_to_scale].mean().round(6))\n",
    "print(\"\\nStds (scaled cols):\\n\", data_encoded[num_cols_to_scale].std().round(6))"
   ]
  },
  {
   "cell_type": "code",
   "execution_count": null,
   "id": "94f28b1c",
   "metadata": {},
   "outputs": [],
   "source": []
  }
 ],
 "metadata": {
  "kernelspec": {
   "display_name": "Python 3",
   "language": "python",
   "name": "python3"
  },
  "language_info": {
   "codemirror_mode": {
    "name": "ipython",
    "version": 3
   },
   "file_extension": ".py",
   "mimetype": "text/x-python",
   "name": "python",
   "nbconvert_exporter": "python",
   "pygments_lexer": "ipython3",
   "version": "3.11.9"
  }
 },
 "nbformat": 4,
 "nbformat_minor": 5
}
