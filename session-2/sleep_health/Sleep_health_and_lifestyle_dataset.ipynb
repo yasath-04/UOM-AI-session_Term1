{
 "cells": [
  {
   "cell_type": "code",
   "execution_count": 1,
   "id": "2d951ef9",
   "metadata": {},
   "outputs": [],
   "source": [
    "import pandas as pd\n",
    "import numpy as np"
   ]
  },
  {
   "cell_type": "code",
   "execution_count": 2,
   "id": "db53f50f",
   "metadata": {},
   "outputs": [],
   "source": [
    "data_f = pd.read_csv('Sleep_health_and_lifestyle_dataset.csv')"
   ]
  },
  {
   "cell_type": "code",
   "execution_count": 3,
   "id": "2cd68697",
   "metadata": {},
   "outputs": [
    {
     "name": "stdout",
     "output_type": "stream",
     "text": [
      "<class 'pandas.core.frame.DataFrame'>\n",
      "RangeIndex: 374 entries, 0 to 373\n",
      "Data columns (total 13 columns):\n",
      " #   Column                   Non-Null Count  Dtype  \n",
      "---  ------                   --------------  -----  \n",
      " 0   Person ID                374 non-null    int64  \n",
      " 1   Gender                   374 non-null    object \n",
      " 2   Age                      374 non-null    int64  \n",
      " 3   Occupation               374 non-null    object \n",
      " 4   Sleep Duration           374 non-null    float64\n",
      " 5   Quality of Sleep         374 non-null    int64  \n",
      " 6   Physical Activity Level  374 non-null    int64  \n",
      " 7   Stress Level             374 non-null    int64  \n",
      " 8   BMI Category             374 non-null    object \n",
      " 9   Blood Pressure           374 non-null    object \n",
      " 10  Heart Rate               374 non-null    int64  \n",
      " 11  Daily Steps              374 non-null    int64  \n",
      " 12  Sleep Disorder           155 non-null    object \n",
      "dtypes: float64(1), int64(7), object(5)\n",
      "memory usage: 38.1+ KB\n"
     ]
    }
   ],
   "source": [
    "data_f.info()"
   ]
  },
  {
   "cell_type": "code",
   "execution_count": 4,
   "id": "ebb126e0",
   "metadata": {},
   "outputs": [
    {
     "data": {
      "text/plain": [
       "(374, 13)"
      ]
     },
     "execution_count": 4,
     "metadata": {},
     "output_type": "execute_result"
    }
   ],
   "source": [
    "data_f.shape"
   ]
  },
  {
   "cell_type": "code",
   "execution_count": 5,
   "id": "6b321c7c",
   "metadata": {},
   "outputs": [
    {
     "data": {
      "text/html": [
       "<div>\n",
       "<style scoped>\n",
       "    .dataframe tbody tr th:only-of-type {\n",
       "        vertical-align: middle;\n",
       "    }\n",
       "\n",
       "    .dataframe tbody tr th {\n",
       "        vertical-align: top;\n",
       "    }\n",
       "\n",
       "    .dataframe thead th {\n",
       "        text-align: right;\n",
       "    }\n",
       "</style>\n",
       "<table border=\"1\" class=\"dataframe\">\n",
       "  <thead>\n",
       "    <tr style=\"text-align: right;\">\n",
       "      <th></th>\n",
       "      <th>Person ID</th>\n",
       "      <th>Gender</th>\n",
       "      <th>Age</th>\n",
       "      <th>Occupation</th>\n",
       "      <th>Sleep Duration</th>\n",
       "      <th>Quality of Sleep</th>\n",
       "      <th>Physical Activity Level</th>\n",
       "      <th>Stress Level</th>\n",
       "      <th>BMI Category</th>\n",
       "      <th>Blood Pressure</th>\n",
       "      <th>Heart Rate</th>\n",
       "      <th>Daily Steps</th>\n",
       "      <th>Sleep Disorder</th>\n",
       "    </tr>\n",
       "  </thead>\n",
       "  <tbody>\n",
       "    <tr>\n",
       "      <th>0</th>\n",
       "      <td>1</td>\n",
       "      <td>Male</td>\n",
       "      <td>27</td>\n",
       "      <td>Software Engineer</td>\n",
       "      <td>6.1</td>\n",
       "      <td>6</td>\n",
       "      <td>42</td>\n",
       "      <td>6</td>\n",
       "      <td>Overweight</td>\n",
       "      <td>126/83</td>\n",
       "      <td>77</td>\n",
       "      <td>4200</td>\n",
       "      <td>NaN</td>\n",
       "    </tr>\n",
       "    <tr>\n",
       "      <th>1</th>\n",
       "      <td>2</td>\n",
       "      <td>Male</td>\n",
       "      <td>28</td>\n",
       "      <td>Doctor</td>\n",
       "      <td>6.2</td>\n",
       "      <td>6</td>\n",
       "      <td>60</td>\n",
       "      <td>8</td>\n",
       "      <td>Normal</td>\n",
       "      <td>125/80</td>\n",
       "      <td>75</td>\n",
       "      <td>10000</td>\n",
       "      <td>NaN</td>\n",
       "    </tr>\n",
       "    <tr>\n",
       "      <th>2</th>\n",
       "      <td>3</td>\n",
       "      <td>Male</td>\n",
       "      <td>28</td>\n",
       "      <td>Doctor</td>\n",
       "      <td>6.2</td>\n",
       "      <td>6</td>\n",
       "      <td>60</td>\n",
       "      <td>8</td>\n",
       "      <td>Normal</td>\n",
       "      <td>125/80</td>\n",
       "      <td>75</td>\n",
       "      <td>10000</td>\n",
       "      <td>NaN</td>\n",
       "    </tr>\n",
       "    <tr>\n",
       "      <th>3</th>\n",
       "      <td>4</td>\n",
       "      <td>Male</td>\n",
       "      <td>28</td>\n",
       "      <td>Sales Representative</td>\n",
       "      <td>5.9</td>\n",
       "      <td>4</td>\n",
       "      <td>30</td>\n",
       "      <td>8</td>\n",
       "      <td>Obese</td>\n",
       "      <td>140/90</td>\n",
       "      <td>85</td>\n",
       "      <td>3000</td>\n",
       "      <td>Sleep Apnea</td>\n",
       "    </tr>\n",
       "    <tr>\n",
       "      <th>4</th>\n",
       "      <td>5</td>\n",
       "      <td>Male</td>\n",
       "      <td>28</td>\n",
       "      <td>Sales Representative</td>\n",
       "      <td>5.9</td>\n",
       "      <td>4</td>\n",
       "      <td>30</td>\n",
       "      <td>8</td>\n",
       "      <td>Obese</td>\n",
       "      <td>140/90</td>\n",
       "      <td>85</td>\n",
       "      <td>3000</td>\n",
       "      <td>Sleep Apnea</td>\n",
       "    </tr>\n",
       "  </tbody>\n",
       "</table>\n",
       "</div>"
      ],
      "text/plain": [
       "   Person ID Gender  Age            Occupation  Sleep Duration  \\\n",
       "0          1   Male   27     Software Engineer             6.1   \n",
       "1          2   Male   28                Doctor             6.2   \n",
       "2          3   Male   28                Doctor             6.2   \n",
       "3          4   Male   28  Sales Representative             5.9   \n",
       "4          5   Male   28  Sales Representative             5.9   \n",
       "\n",
       "   Quality of Sleep  Physical Activity Level  Stress Level BMI Category  \\\n",
       "0                 6                       42             6   Overweight   \n",
       "1                 6                       60             8       Normal   \n",
       "2                 6                       60             8       Normal   \n",
       "3                 4                       30             8        Obese   \n",
       "4                 4                       30             8        Obese   \n",
       "\n",
       "  Blood Pressure  Heart Rate  Daily Steps Sleep Disorder  \n",
       "0         126/83          77         4200            NaN  \n",
       "1         125/80          75        10000            NaN  \n",
       "2         125/80          75        10000            NaN  \n",
       "3         140/90          85         3000    Sleep Apnea  \n",
       "4         140/90          85         3000    Sleep Apnea  "
      ]
     },
     "execution_count": 5,
     "metadata": {},
     "output_type": "execute_result"
    }
   ],
   "source": [
    "data_f.head()"
   ]
  },
  {
   "cell_type": "code",
   "execution_count": 7,
   "id": "79f47985",
   "metadata": {},
   "outputs": [
    {
     "data": {
      "text/plain": [
       "np.int64(0)"
      ]
     },
     "execution_count": 7,
     "metadata": {},
     "output_type": "execute_result"
    }
   ],
   "source": [
    "data_f.duplicated().sum()\n",
    "# no duplicates"
   ]
  },
  {
   "cell_type": "code",
   "execution_count": 10,
   "id": "cf8b03c4",
   "metadata": {},
   "outputs": [
    {
     "name": "stdout",
     "output_type": "stream",
     "text": [
      "Index(['Person ID', 'Gender', 'Age', 'Occupation', 'Sleep Duration',\n",
      "       'Quality of Sleep', 'Physical Activity Level', 'Stress Level',\n",
      "       'BMI Category', 'Blood Pressure', 'Heart Rate', 'Daily Steps',\n",
      "       'Sleep Disorder'],\n",
      "      dtype='object')\n",
      "0      Overweight\n",
      "1          Normal\n",
      "2          Normal\n",
      "3           Obese\n",
      "4           Obese\n",
      "          ...    \n",
      "369    Overweight\n",
      "370    Overweight\n",
      "371    Overweight\n",
      "372    Overweight\n",
      "373    Overweight\n",
      "Name: BMI Category, Length: 374, dtype: object\n"
     ]
    }
   ],
   "source": [
    "print(data_f.columns)\n",
    "print(data_f['BMI Category'])"
   ]
  },
  {
   "cell_type": "code",
   "execution_count": 11,
   "id": "23355f36",
   "metadata": {},
   "outputs": [
    {
     "name": "stdout",
     "output_type": "stream",
     "text": [
      "['Gender', 'Occupation', 'BMI Category', 'Blood Pressure', 'Sleep Disorder']\n",
      "['Person ID', 'Age', 'Sleep Duration', 'Quality of Sleep', 'Physical Activity Level', 'Stress Level', 'Heart Rate', 'Daily Steps']\n"
     ]
    }
   ],
   "source": [
    "cat_cols = [col for col in data_f.columns if data_f[col].dtype == 'object']\n",
    "num_cols = [col for col in data_f.columns if data_f[col].dtype != 'object']\n",
    "\n",
    "print(cat_cols)\n",
    "print(num_cols)"
   ]
  },
  {
   "cell_type": "code",
   "execution_count": 12,
   "id": "60e482c3",
   "metadata": {},
   "outputs": [
    {
     "data": {
      "text/plain": [
       "Gender             2\n",
       "Occupation        11\n",
       "BMI Category       4\n",
       "Blood Pressure    25\n",
       "Sleep Disorder     2\n",
       "dtype: int64"
      ]
     },
     "execution_count": 12,
     "metadata": {},
     "output_type": "execute_result"
    }
   ],
   "source": [
    "data_f[cat_cols].nunique()"
   ]
  },
  {
   "cell_type": "code",
   "execution_count": 13,
   "id": "40a6a2d6",
   "metadata": {},
   "outputs": [
    {
     "data": {
      "text/plain": [
       "Person ID                    0\n",
       "Gender                       0\n",
       "Age                          0\n",
       "Occupation                   0\n",
       "Sleep Duration               0\n",
       "Quality of Sleep             0\n",
       "Physical Activity Level      0\n",
       "Stress Level                 0\n",
       "BMI Category                 0\n",
       "Blood Pressure               0\n",
       "Heart Rate                   0\n",
       "Daily Steps                  0\n",
       "Sleep Disorder             219\n",
       "dtype: int64"
      ]
     },
     "execution_count": 13,
     "metadata": {},
     "output_type": "execute_result"
    }
   ],
   "source": [
    "data_f.isnull().sum()"
   ]
  },
  {
   "cell_type": "code",
   "execution_count": 14,
   "id": "c5b3c6cf",
   "metadata": {},
   "outputs": [
    {
     "data": {
      "text/plain": [
       "Person ID                  0\n",
       "Gender                     0\n",
       "Age                        0\n",
       "Occupation                 0\n",
       "Sleep Duration             0\n",
       "Quality of Sleep           0\n",
       "Physical Activity Level    0\n",
       "Stress Level               0\n",
       "BMI Category               0\n",
       "Blood Pressure             0\n",
       "Heart Rate                 0\n",
       "Daily Steps                0\n",
       "Sleep Disorder             0\n",
       "dtype: int64"
      ]
     },
     "execution_count": 14,
     "metadata": {},
     "output_type": "execute_result"
    }
   ],
   "source": [
    "(data_f==0).sum()"
   ]
  },
  {
   "cell_type": "code",
   "execution_count": 19,
   "id": "89175744",
   "metadata": {},
   "outputs": [
    {
     "data": {
      "text/html": [
       "<div>\n",
       "<style scoped>\n",
       "    .dataframe tbody tr th:only-of-type {\n",
       "        vertical-align: middle;\n",
       "    }\n",
       "\n",
       "    .dataframe tbody tr th {\n",
       "        vertical-align: top;\n",
       "    }\n",
       "\n",
       "    .dataframe thead th {\n",
       "        text-align: right;\n",
       "    }\n",
       "</style>\n",
       "<table border=\"1\" class=\"dataframe\">\n",
       "  <thead>\n",
       "    <tr style=\"text-align: right;\">\n",
       "      <th></th>\n",
       "      <th>Gender</th>\n",
       "      <th>Age</th>\n",
       "      <th>Occupation</th>\n",
       "      <th>Sleep Duration</th>\n",
       "      <th>Quality of Sleep</th>\n",
       "      <th>Physical Activity Level</th>\n",
       "      <th>Stress Level</th>\n",
       "      <th>BMI Category</th>\n",
       "      <th>Blood Pressure</th>\n",
       "      <th>Heart Rate</th>\n",
       "      <th>Daily Steps</th>\n",
       "    </tr>\n",
       "  </thead>\n",
       "  <tbody>\n",
       "    <tr>\n",
       "      <th>0</th>\n",
       "      <td>Male</td>\n",
       "      <td>27</td>\n",
       "      <td>Software Engineer</td>\n",
       "      <td>6.1</td>\n",
       "      <td>6</td>\n",
       "      <td>42</td>\n",
       "      <td>6</td>\n",
       "      <td>Overweight</td>\n",
       "      <td>126/83</td>\n",
       "      <td>77</td>\n",
       "      <td>4200</td>\n",
       "    </tr>\n",
       "    <tr>\n",
       "      <th>1</th>\n",
       "      <td>Male</td>\n",
       "      <td>28</td>\n",
       "      <td>Doctor</td>\n",
       "      <td>6.2</td>\n",
       "      <td>6</td>\n",
       "      <td>60</td>\n",
       "      <td>8</td>\n",
       "      <td>Normal</td>\n",
       "      <td>125/80</td>\n",
       "      <td>75</td>\n",
       "      <td>10000</td>\n",
       "    </tr>\n",
       "    <tr>\n",
       "      <th>2</th>\n",
       "      <td>Male</td>\n",
       "      <td>28</td>\n",
       "      <td>Doctor</td>\n",
       "      <td>6.2</td>\n",
       "      <td>6</td>\n",
       "      <td>60</td>\n",
       "      <td>8</td>\n",
       "      <td>Normal</td>\n",
       "      <td>125/80</td>\n",
       "      <td>75</td>\n",
       "      <td>10000</td>\n",
       "    </tr>\n",
       "    <tr>\n",
       "      <th>3</th>\n",
       "      <td>Male</td>\n",
       "      <td>28</td>\n",
       "      <td>Sales Representative</td>\n",
       "      <td>5.9</td>\n",
       "      <td>4</td>\n",
       "      <td>30</td>\n",
       "      <td>8</td>\n",
       "      <td>Obese</td>\n",
       "      <td>140/90</td>\n",
       "      <td>85</td>\n",
       "      <td>3000</td>\n",
       "    </tr>\n",
       "    <tr>\n",
       "      <th>4</th>\n",
       "      <td>Male</td>\n",
       "      <td>28</td>\n",
       "      <td>Sales Representative</td>\n",
       "      <td>5.9</td>\n",
       "      <td>4</td>\n",
       "      <td>30</td>\n",
       "      <td>8</td>\n",
       "      <td>Obese</td>\n",
       "      <td>140/90</td>\n",
       "      <td>85</td>\n",
       "      <td>3000</td>\n",
       "    </tr>\n",
       "  </tbody>\n",
       "</table>\n",
       "</div>"
      ],
      "text/plain": [
       "  Gender  Age            Occupation  Sleep Duration  Quality of Sleep  \\\n",
       "0   Male   27     Software Engineer             6.1                 6   \n",
       "1   Male   28                Doctor             6.2                 6   \n",
       "2   Male   28                Doctor             6.2                 6   \n",
       "3   Male   28  Sales Representative             5.9                 4   \n",
       "4   Male   28  Sales Representative             5.9                 4   \n",
       "\n",
       "   Physical Activity Level  Stress Level BMI Category Blood Pressure  \\\n",
       "0                       42             6   Overweight         126/83   \n",
       "1                       60             8       Normal         125/80   \n",
       "2                       60             8       Normal         125/80   \n",
       "3                       30             8        Obese         140/90   \n",
       "4                       30             8        Obese         140/90   \n",
       "\n",
       "   Heart Rate  Daily Steps  \n",
       "0          77         4200  \n",
       "1          75        10000  \n",
       "2          75        10000  \n",
       "3          85         3000  \n",
       "4          85         3000  "
      ]
     },
     "execution_count": 19,
     "metadata": {},
     "output_type": "execute_result"
    }
   ],
   "source": [
    "data_f.drop(columns=['Person ID', 'Sleep Disorder'], inplace=True)\n",
    "data_f.head()"
   ]
  },
  {
   "cell_type": "code",
   "execution_count": 20,
   "id": "7625df82",
   "metadata": {},
   "outputs": [
    {
     "data": {
      "text/plain": [
       "(374, 11)"
      ]
     },
     "execution_count": 20,
     "metadata": {},
     "output_type": "execute_result"
    }
   ],
   "source": [
    "data_f.shape"
   ]
  },
  {
   "cell_type": "code",
   "execution_count": 25,
   "id": "819d0f94",
   "metadata": {},
   "outputs": [
    {
     "name": "stdout",
     "output_type": "stream",
     "text": [
      "['Gender', 'Occupation', 'BMI Category', 'Blood Pressure']\n",
      "['Age', 'Sleep Duration', 'Quality of Sleep', 'Physical Activity Level', 'Stress Level', 'Heart Rate', 'Daily Steps']\n"
     ]
    }
   ],
   "source": [
    "cat_cols = [col for col in data_f.columns if data_f[col].dtype == 'object']\n",
    "num_cols = [col for col in data_f.columns if data_f[col].dtype != 'object']\n",
    "\n",
    "print(cat_cols)\n",
    "print(num_cols)"
   ]
  },
  {
   "cell_type": "code",
   "execution_count": 29,
   "id": "94bb05cd",
   "metadata": {},
   "outputs": [
    {
     "data": {
      "image/png": "[encoded data removed]",
      "text/plain": [
       "<Figure size 672x1728 with 7 Axes>"
      ]
     },
     "metadata": {},
     "output_type": "display_data"
    }
   ],
   "source": [
    "import matplotlib.pyplot as plt\n",
    "\n",
    "fig, ax = plt.subplots(len(num_cols), 1, figsize=(7, 18), dpi=96) #inside(rows, columns, size, dots per inch)\n",
    "for i, col in enumerate(num_cols):\n",
    "    ax[i].boxplot(data_f[col], vert=False)\n",
    "    ax[i].set_title(col)\n",
    "plt.tight_layout()\n",
    "fig.set_facecolor(\"lightgrey\") # Changes background color\n",
    "plt.show()"
   ]
  },
  {
   "cell_type": "code",
   "execution_count": 32,
   "id": "5bce37bd",
   "metadata": {},
   "outputs": [
    {
     "name": "stdout",
     "output_type": "stream",
     "text": [
      "   Age            Occupation  Sleep Duration  Quality of Sleep  \\\n",
      "0   27     Software Engineer             6.1                 6   \n",
      "1   28                Doctor             6.2                 6   \n",
      "2   28                Doctor             6.2                 6   \n",
      "3   28  Sales Representative             5.9                 4   \n",
      "4   28  Sales Representative             5.9                 4   \n",
      "\n",
      "   Physical Activity Level  Stress Level BMI Category Blood Pressure  \\\n",
      "0                       42             6   Overweight         126/83   \n",
      "1                       60             8       Normal         125/80   \n",
      "2                       60             8       Normal         125/80   \n",
      "3                       30             8        Obese         140/90   \n",
      "4                       30             8        Obese         140/90   \n",
      "\n",
      "   Heart Rate  Daily Steps  Gender_Male  \n",
      "0          77         4200         True  \n",
      "1          75        10000         True  \n",
      "2          75        10000         True  \n",
      "3          85         3000         True  \n",
      "4          85         3000         True  \n"
     ]
    }
   ],
   "source": [
    "data_f = pd.get_dummies(data_f, columns=['Gender'], drop_first=True)\n",
    "print(data_f.head())"
   ]
  },
  {
   "cell_type": "code",
   "execution_count": 31,
   "id": "f609a8d1",
   "metadata": {},
   "outputs": [
    {
     "name": "stdout",
     "output_type": "stream",
     "text": [
      "  Gender       Age            Occupation  Sleep Duration  Quality of Sleep  \\\n",
      "0   Male -1.753096     Software Engineer       -1.298887         -1.098280   \n",
      "1   Male -1.637643                Doctor       -1.173036         -1.098280   \n",
      "2   Male -1.637643                Doctor       -1.173036         -1.098280   \n",
      "3   Male -1.637643  Sales Representative       -1.550588         -2.771424   \n",
      "4   Male -1.637643  Sales Representative       -1.550588         -2.771424   \n",
      "\n",
      "   Physical Activity Level  Stress Level BMI Category Blood Pressure  \\\n",
      "0                -0.825418      0.347021   Overweight         126/83   \n",
      "1                 0.039844      1.475592       Normal         125/80   \n",
      "2                 0.039844      1.475592       Normal         125/80   \n",
      "3                -1.402260      1.475592        Obese         140/90   \n",
      "4                -1.402260      1.475592        Obese         140/90   \n",
      "\n",
      "   Heart Rate  Daily Steps  \n",
      "0    1.654719    -1.619584  \n",
      "1    1.170474     1.970077  \n",
      "2    1.170474     1.970077  \n",
      "3    3.591698    -2.362273  \n",
      "4    3.591698    -2.362273  \n",
      "\n",
      "Means after standardization:\n",
      " Age                       -4.559633e-16\n",
      "Sleep Duration             1.348891e-15\n",
      "Quality of Sleep           2.469801e-16\n",
      "Physical Activity Level   -3.324732e-17\n",
      "Stress Level               1.994839e-16\n",
      "Heart Rate                -1.377389e-15\n",
      "Daily Steps               -9.499234e-17\n",
      "dtype: float64\n",
      "\n",
      "Standard deviations after standardization:\n",
      " Age                        1.00134\n",
      "Sleep Duration             1.00134\n",
      "Quality of Sleep           1.00134\n",
      "Physical Activity Level    1.00134\n",
      "Stress Level               1.00134\n",
      "Heart Rate                 1.00134\n",
      "Daily Steps                1.00134\n",
      "dtype: float64\n"
     ]
    }
   ],
   "source": [
    "from sklearn.preprocessing import StandardScaler\n",
    "\n",
    "# Create a copy to avoid changing the original data\n",
    "data_std = data_f.copy()\n",
    "\n",
    "# Initialize the scaler\n",
    "scaler = StandardScaler()\n",
    "\n",
    "# Fit and transform only numerical columns\n",
    "data_std[num_cols] = scaler.fit_transform(data_f[num_cols])\n",
    "\n",
    "# Check the result\n",
    "print(data_std.head())\n",
    "\n",
    "# Verify that the mean is ~0 and std is ~1\n",
    "print(\"\\nMeans after standardization:\\n\", data_std[num_cols].mean())\n",
    "print(\"\\nStandard deviations after standardization:\\n\", data_std[num_cols].std())\n"
   ]
  },
  {
   "cell_type": "code",
   "execution_count": null,
   "id": "6211fb04",
   "metadata": {},
   "outputs": [],
   "source": []
  }
 ],
 "metadata": {
  "kernelspec": {
   "display_name": "Python 3",
   "language": "python",
   "name": "python3"
  },
  "language_info": {
   "codemirror_mode": {
    "name": "ipython",
    "version": 3
   },
   "file_extension": ".py",
   "mimetype": "text/x-python",
   "name": "python",
   "nbconvert_exporter": "python",
   "pygments_lexer": "ipython3",
   "version": "3.11.9"
  }
 },
 "nbformat": 4,
 "nbformat_minor": 5
}
