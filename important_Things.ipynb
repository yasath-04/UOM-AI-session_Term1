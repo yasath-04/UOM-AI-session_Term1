{
 "cells": [
  {
   "cell_type": "code",
   "execution_count": null,
   "id": "47f94e03",
   "metadata": {},
   "outputs": [
    {
     "name": "stdout",
     "output_type": "stream",
     "text": [
      "['120', '80']\n"
     ]
    }
   ],
   "source": [
    "#split function used for strings\n",
    "s = \"120/80\"\n",
    "print(s.split('/'))"
   ]
  },
  {
   "cell_type": "code",
   "execution_count": 8,
   "id": "ce315b24",
   "metadata": {},
   "outputs": [
    {
     "name": "stdout",
     "output_type": "stream",
     "text": [
      "['1', '5']\n"
     ]
    }
   ],
   "source": [
    "s = 120/80\n",
    "print(str(s).split('.'))"
   ]
  },
  {
   "cell_type": "code",
   "execution_count": 10,
   "id": "c4506bc0",
   "metadata": {},
   "outputs": [
    {
     "name": "stdout",
     "output_type": "stream",
     "text": [
      "[1.5, 1.588235294117647, 1.5714285714285714]\n",
      "[['1', '5'], ['1', '588235294117647'], ['1', '5714285714285714']]\n"
     ]
    }
   ],
   "source": [
    "bp = [120/80, 135/85, 110/70]\n",
    "print(bp)\n",
    "n_bp = [str(x).split('.') for x in bp]\n",
    "print(n_bp)"
   ]
  },
  {
   "cell_type": "markdown",
   "id": "fed90483",
   "metadata": {},
   "source": [
    "### raw data\n",
    "- 0    120/80\n",
    "- 1    135/85\n",
    "- 2    110/70\n",
    "\n",
    "### The .str accessor allows you to use string functions (like split, replace, lower, etc.) on every element of that column.\n",
    "\n",
    "### after .split('/')\n",
    "- 0    [120, 80]\n",
    "- 1    [135, 85]\n",
    "- 2    [110, 70]\n",
    "\n",
    "### expand=True\n",
    "### This tells Pandas to split the list into separate columns instead of keeping it as a list in one cell.\n",
    "-     0    1\n",
    "- 0  120   80\n",
    "- 1  135   85\n",
    "- 2  110   70"
   ]
  },
  {
   "cell_type": "code",
   "execution_count": null,
   "id": "b2df70da",
   "metadata": {},
   "outputs": [],
   "source": []
  }
 ],
 "metadata": {
  "kernelspec": {
   "display_name": "Python 3",
   "language": "python",
   "name": "python3"
  },
  "language_info": {
   "codemirror_mode": {
    "name": "ipython",
    "version": 3
   },
   "file_extension": ".py",
   "mimetype": "text/x-python",
   "name": "python",
   "nbconvert_exporter": "python",
   "pygments_lexer": "ipython3",
   "version": "3.11.9"
  }
 },
 "nbformat": 4,
 "nbformat_minor": 5
}
