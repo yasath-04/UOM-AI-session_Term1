{
 "cells": [
  {
   "cell_type": "code",
   "execution_count": 1,
   "id": "d93ee38a",
   "metadata": {},
   "outputs": [
    {
     "name": "stdout",
     "output_type": "stream",
     "text": [
      "Hello\n"
     ]
    }
   ],
   "source": [
    "print(\"Hello\")"
   ]
  },
  {
   "cell_type": "markdown",
   "id": "52aebd89",
   "metadata": {},
   "source": [
    "- Function define\n",
    "- docString"
   ]
  },
  {
   "cell_type": "code",
   "execution_count": 3,
   "id": "2683a51c",
   "metadata": {},
   "outputs": [
    {
     "name": "stdout",
     "output_type": "stream",
     "text": [
      "6\n"
     ]
    }
   ],
   "source": [
    "def lenName(name: str) -> int:\n",
    "    \"\"\"A simple function that gets the name \n",
    "    and passed the length of the name\"\"\"\n",
    "    length = len(name)\n",
    "    return length\n",
    "\n",
    "print(lenName(\"Yasath\"))"
   ]
  },
  {
   "cell_type": "markdown",
   "id": "e766293b",
   "metadata": {},
   "source": [
    "- try except else finally"
   ]
  },
  {
   "cell_type": "code",
   "execution_count": 12,
   "id": "bdc7a551",
   "metadata": {},
   "outputs": [],
   "source": [
    "x = 8\n",
    "\n",
    "def Xdevideby(n: int) -> int:\n",
    "    try:\n",
    "        return x/n\n",
    "    except ZeroDivisionError:\n",
    "        return \"You can't devide by zero\"\n",
    "    else:\n",
    "        return \"other error\"\n",
    "    finally:\n",
    "        print(\"executed succesfully\")"
   ]
  },
  {
   "cell_type": "code",
   "execution_count": 13,
   "id": "ab844971",
   "metadata": {},
   "outputs": [
    {
     "name": "stdout",
     "output_type": "stream",
     "text": [
      "executed succesfully\n",
      "4.0\n"
     ]
    }
   ],
   "source": [
    "print(Xdevideby(2))"
   ]
  },
  {
   "cell_type": "code",
   "execution_count": 16,
   "id": "4441cbdb",
   "metadata": {},
   "outputs": [],
   "source": [
    "#C:\\Users\\User\\Desktop\n",
    "with open(\"testNew.txt\", \"w\") as file1:\n",
    "    file1.write(\"Yasath bosa supirii\")"
   ]
  }
 ],
 "metadata": {
  "kernelspec": {
   "display_name": "Python 3",
   "language": "python",
   "name": "python3"
  },
  "language_info": {
   "codemirror_mode": {
    "name": "ipython",
    "version": 3
   },
   "file_extension": ".py",
   "mimetype": "text/x-python",
   "name": "python",
   "nbconvert_exporter": "python",
   "pygments_lexer": "ipython3",
   "version": "3.11.9"
  }
 },
 "nbformat": 4,
 "nbformat_minor": 5
}
