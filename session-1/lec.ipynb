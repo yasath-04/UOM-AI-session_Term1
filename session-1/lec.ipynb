{
 "cells": [
  {
   "cell_type": "markdown",
   "id": "c1b8cf05",
   "metadata": {},
   "source": [
    "#Intermediate Python Programming\n",
    "-Functions, Types and Hints, Docstrings\n",
    "-Errors and Exceptions\n",
    "-Exception Handling\n",
    "-Context Managers\n",
    "-Comprehensions\n",
    "-Generators and Iterators\n",
    "-Decorators\n",
    "-Modules and Packages\n",
    "-Stdlibs\n",
    "-Performance Optimization (Numpy, Pandas)"
   ]
  },
  {
   "cell_type": "code",
   "execution_count": 1,
   "id": "3fbef8ec",
   "metadata": {},
   "outputs": [
    {
     "name": "stdout",
     "output_type": "stream",
     "text": [
      "0\n"
     ]
    }
   ],
   "source": [
    "def hello_world(name: str) -> int:\n",
    "    \"\"\"A simple function that greets the person whose name is passed as an argument.\"\"\"\n",
    "    text = \"Hello, \" + name + \"!\"\n",
    "    return 0\n",
    "\n",
    "print(hello_world(\"Alice\"))"
   ]
  },
  {
   "cell_type": "code",
   "execution_count": 2,
   "id": "a4b01c57",
   "metadata": {},
   "outputs": [
    {
     "name": "stdout",
     "output_type": "stream",
     "text": [
      "0\n"
     ]
    }
   ],
   "source": [
    "def hello_world(name: str) -> int:\n",
    "    \"\"\"A simple function that greets the person whose name is passed as an argument.\"\"\"\n",
    "    text = \"Hello, \" + name + \"!\"\n",
    "    return 0\n",
    "\n",
    "print(hello_world(\"Alice\"))"
   ]
  },
  {
   "cell_type": "code",
   "execution_count": 5,
   "id": "c5e32bf0",
   "metadata": {},
   "outputs": [],
   "source": [
    "def hello_world(name: str) -> str:\n",
    "    \"\"\"Returns a greeting message for the given name.\"\"\"\n",
    "    try:\n",
    "        return \"Hello, \" + name + \"!\"\n",
    "    except Exception:\n",
    "        return \"Invalid input: name must be a string.\"\n",
    "    else:\n",
    "        return \"Function executed successfully.\"\n",
    "    finally:\n",
    "        print(\"Function executed.\")\n"
   ]
  },
  {
   "cell_type": "code",
   "execution_count": 7,
   "id": "8aadefc2",
   "metadata": {},
   "outputs": [
    {
     "name": "stdout",
     "output_type": "stream",
     "text": [
      "Function executed.\n",
      "Invalid input: name must be a string.\n"
     ]
    }
   ],
   "source": [
    "print(hello_world(1))"
   ]
  },
  {
   "cell_type": "code",
   "execution_count": 8,
   "id": "9cf392ab",
   "metadata": {},
   "outputs": [],
   "source": [
    "def hello_world(name: str) -> str:\n",
    "    \"\"\"Returns a greeting message for the given name.\"\"\"\n",
    "    try:\n",
    "        return \"Hello, \" + name + \"!\"\n",
    "    except Exception:\n",
    "        print(\"Invalid input: name must be a string.\")\n",
    "    else:\n",
    "        return \"Function executed successfully.\"\n",
    "    finally:\n",
    "        print(\"Function executed.\")\n"
   ]
  },
  {
   "cell_type": "code",
   "execution_count": 10,
   "id": "bba9df08",
   "metadata": {},
   "outputs": [
    {
     "name": "stdout",
     "output_type": "stream",
     "text": [
      "Invalid input: name must be a string.\n",
      "Function executed.\n"
     ]
    }
   ],
   "source": [
    "hello_world(1)"
   ]
  },
  {
   "cell_type": "code",
   "execution_count": 12,
   "id": "a7e0562a",
   "metadata": {},
   "outputs": [],
   "source": [
    "with open(\"example.txt\", \"w\") as file:\n",
    "    file.write(\"This is an example of using a context manager in Python.\\n\")"
   ]
  }
 ],
 "metadata": {
  "kernelspec": {
   "display_name": "Python 3",
   "language": "python",
   "name": "python3"
  },
  "language_info": {
   "codemirror_mode": {
    "name": "ipython",
    "version": 3
   },
   "file_extension": ".py",
   "mimetype": "text/x-python",
   "name": "python",
   "nbconvert_exporter": "python",
   "pygments_lexer": "ipython3",
   "version": "3.11.9"
  }
 },
 "nbformat": 4,
 "nbformat_minor": 5
}
