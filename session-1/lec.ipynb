{
 "cells": [
  {
   "cell_type": "markdown",
   "id": "c1b8cf05",
   "metadata": {},
   "source": [
    "**Intermediate Python Programming**\n",
    "-Functions, Types and Hints, Docstrings\n",
    "-Errors and Exceptions\n",
    "-Exception Handling\n",
    "-Context Managers\n",
    "-Comprehensions\n",
    "-Generators and Iterators\n",
    "-Decorators\n",
    "-Modules and Packages\n",
    "-Stdlibs\n",
    "-Performance Optimization (Numpy, Pandas)"
   ]
  },
  {
   "cell_type": "code",
   "execution_count": null,
   "id": "3fbef8ec",
   "metadata": {
    "vscode": {
     "languageId": "plaintext"
    }
   },
   "outputs": [],
   "source": [
    "def hello_world(name: str) -> int:\n",
    "    \"\"\"A simple function that greets the person whose name is passed as an argument.\"\"\"\n",
    "    text = \"Hello, \" + name + \"!\"\n",
    "    return 0\n",
    "\n",
    "print(hello_world(\"Alice\"))"
   ]
  },
  {
   "cell_type": "code",
   "execution_count": null,
   "id": "a4b01c57",
   "metadata": {
    "vscode": {
     "languageId": "plaintext"
    }
   },
   "outputs": [],
   "source": [
    "def hello_world(name: str) -> int:\n",
    "    \"\"\"A simple function that greets the person whose name is passed as an argument.\"\"\"\n",
    "    text = \"Hello, \" + name + \"!\"\n",
    "    return 0\n",
    "\n",
    "print(hello_world(\"Alice\"))"
   ]
  }
 ],
 "metadata": {
  "language_info": {
   "name": "python"
  }
 },
 "nbformat": 4,
 "nbformat_minor": 5
}
